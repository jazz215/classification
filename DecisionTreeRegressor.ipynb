{
 "cells": [
  {
   "cell_type": "code",
   "execution_count": 3,
   "metadata": {
    "collapsed": true
   },
   "outputs": [
    {
     "ename": "ModuleNotFoundError",
     "evalue": "No module named 'DecisionTreeRegressor'",
     "output_type": "error",
     "traceback": [
      "\u001b[0;31m---------------------------------------------------------------------------\u001b[0m",
      "\u001b[0;31mModuleNotFoundError\u001b[0m                       Traceback (most recent call last)",
      "\u001b[0;32m<ipython-input-3-5d3d3fded8a5>\u001b[0m in \u001b[0;36m<module>\u001b[0;34m()\u001b[0m\n\u001b[0;32m----> 1\u001b[0;31m \u001b[0;32mimport\u001b[0m \u001b[0mDecisionTreeRegressor\u001b[0m\u001b[0;34m\u001b[0m\u001b[0m\n\u001b[0m\u001b[1;32m      2\u001b[0m \u001b[0;32mfrom\u001b[0m \u001b[0msklearn\u001b[0m\u001b[0;34m.\u001b[0m\u001b[0mtree\u001b[0m \u001b[0;32mimport\u001b[0m \u001b[0mDecisionTreeRegressor\u001b[0m\u001b[0;34m\u001b[0m\u001b[0m\n\u001b[1;32m      3\u001b[0m \u001b[0;34m\u001b[0m\u001b[0m\n\u001b[1;32m      4\u001b[0m \u001b[0;31m# Import train_test_split\u001b[0m\u001b[0;34m\u001b[0m\u001b[0;34m\u001b[0m\u001b[0m\n\u001b[1;32m      5\u001b[0m \u001b[0;32mfrom\u001b[0m \u001b[0msklearn\u001b[0m\u001b[0;34m.\u001b[0m\u001b[0mmodel_selection\u001b[0m \u001b[0;32mimport\u001b[0m \u001b[0mtrain_test_split\u001b[0m\u001b[0;34m\u001b[0m\u001b[0m\n",
      "\u001b[0;31mModuleNotFoundError\u001b[0m: No module named 'DecisionTreeRegressor'"
     ]
    }
   ],
   "source": [
    "import DecisionTreeRegressor\n",
    "In [1]: from sklearn.tree import DecisionTreeRegressor\n",
    "\n",
    "# Import train_test_split \n",
    "In [2]: from sklearn.model_selection import train_test_split\n",
    "\n",
    "# Import mean_squared_error as MSE\n",
    "In [3]: from sklearn.metrics import mean_squared_error as MSE\n",
    "# Split data into 80% train and 20% test\n",
    "In [4]: X_train, X_test, y_train, y_test= train_test_split(X, y, \n",
    "                                                           test_size=0.2, \n",
    "                                                           random_state=3)\n",
    "# Instantiate a DecisionTreeRegressor 'dt'\n",
    "In [5]: dt = DecisionTreeRegressor(max_depth=4, \n",
    "                                   min_samples_leaf=0.1,\n",
    "                                   random_state=3)\n",
    "# Fit 'dt' to the training-set\n",
    "In [6]: dt.fit(X_train, y_train)\n",
    "\n",
    "# Predict test-set labels\n",
    "In [7]: y_pred = dt.predict(X_test)\n",
    "# Compute test-set MSE\n",
    "In [8]: mse_dt =  MSE(y_test, y_pred)\n",
    "# Compute test-set RMSE \n",
    "In [9]: rmse_dt = mse_dt**(1/2)\n",
    "# Print rmse_dt\n",
    "In [10]: print(rmse_dt)\n"
   ]
  },
  {
   "cell_type": "code",
   "execution_count": null,
   "metadata": {},
   "outputs": [],
   "source": []
  }
 ],
 "metadata": {
  "kernelspec": {
   "display_name": "Python 3",
   "language": "python",
   "name": "python3"
  },
  "language_info": {
   "codemirror_mode": {
    "name": "ipython",
    "version": 3
   },
   "file_extension": ".py",
   "mimetype": "text/x-python",
   "name": "python",
   "nbconvert_exporter": "python",
   "pygments_lexer": "ipython3",
   "version": "3.6.5"
  }
 },
 "nbformat": 4,
 "nbformat_minor": 2
}
